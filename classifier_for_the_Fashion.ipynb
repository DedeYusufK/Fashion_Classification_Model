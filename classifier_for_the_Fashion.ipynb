{
  "nbformat": 4,
  "nbformat_minor": 0,
  "metadata": {
    "colab": {
      "provenance": [],
      "collapsed_sections": [
        "fTxA3qUPuC-6",
        "vTpiMTSCuIVq",
        "C8jHo6H0uKjt"
      ],
      "include_colab_link": true
    },
    "kernelspec": {
      "name": "python3",
      "display_name": "Python 3"
    },
    "language_info": {
      "name": "python"
    }
  },
  "cells": [
    {
      "cell_type": "markdown",
      "metadata": {
        "id": "view-in-github",
        "colab_type": "text"
      },
      "source": [
        "<a href=\"https://colab.research.google.com/github/DedeYusufK/Fashion_Classification_Model/blob/main/classifier_for_the_Fashion.ipynb\" target=\"_parent\"><img src=\"https://colab.research.google.com/assets/colab-badge.svg\" alt=\"Open In Colab\"/></a>"
      ]
    },
    {
      "cell_type": "code",
      "source": [
        "# =============================================================================\n",
        "# #\n",
        "# Build a classifier for the Fashion MNIST dataset.\n",
        "# The test will expect it to classify 10 classes.\n",
        "# The input shape should be 28x28 monochrome. Do not resize the data.\n",
        "# Your input layer should accept (28, 28) as the input shape.\n",
        "#\n",
        "# Don't use lambda layers in your model.\n",
        "#\n",
        "# Desired accuracy AND validation_accuracy > 83%\n",
        "# =============================================================================\n",
        "\n",
        "import tensorflow as tf\n",
        "import numpy as np"
      ],
      "metadata": {
        "id": "H3wDno4d9C1-"
      },
      "execution_count": null,
      "outputs": []
    },
    {
      "cell_type": "code",
      "source": [
        "class myCallback(tf.keras.callbacks.Callback):\n",
        "        # Define the correct function signature for on_epoch_end\n",
        "        def on_epoch_end(self, epoch, logs={}):\n",
        "            if logs.get('accuracy') > 0.90 and logs.get('val_accuracy') > 0.90:\n",
        "                print(\"\\nReached desired calbacks!\")\n",
        "\n",
        "                # Stop training once the above condition is met\n",
        "                self.model.stop_training = True\n",
        "\n",
        "callbacks = myCallback()"
      ],
      "metadata": {
        "id": "D4SWx6Hd9Pr4"
      },
      "execution_count": null,
      "outputs": []
    },
    {
      "cell_type": "code",
      "source": [
        "def solution_B2():\n",
        "    fashion_mnist = tf.keras.datasets.fashion_mnist\n",
        "\n",
        "    (training_images, training_labels), (test_images, test_labels) = fashion_mnist.load_data()\n",
        "\n",
        "    # NORMALIZE YOUR IMAGE HERE\n",
        "    training_images = training_images / 255.0\n",
        "    test_images = test_images / 255.0\n",
        "    # Apply your function\n",
        "\n",
        "    print(f\"Maximum pixel value after normalization: {np.max(training_images)}\\n\")\n",
        "    print(f\"Shape of training set after reshaping: {training_images.shape}\\n\")\n",
        "    print(f\"Shape of one image after reshaping: {training_images[0].shape}\")\n",
        "\n",
        "    # DEFINE YOUR MODEL HERE\n",
        "    # End with 10 Neuron Dense, activated by softmax\n",
        "\n",
        "    model = tf.keras.models.Sequential([\n",
        "        tf.keras.layers.Conv2D(32,(3,3), activation='relu', input_shape=(28, 28, 1)),\n",
        "        tf.keras.layers.MaxPooling2D(2,2),\n",
        "        tf.keras.layers.Flatten(),\n",
        "        tf.keras.layers.Dense(128, activation='relu'),\n",
        "        tf.keras.layers.Dense(10, activation='softmax'),\n",
        "    ])\n",
        "\n",
        "    # Compile the model\n",
        "    model.compile(optimizer='adam',\n",
        "                  loss='sparse_categorical_crossentropy',\n",
        "                  metrics=['accuracy'])\n",
        "\n",
        "    # COMPILE MODEL HERE\n",
        "\n",
        "    # TRAIN YOUR MODEL HERE\n",
        "\n",
        "    model.fit(training_images, training_labels, validation_data=(test_images, test_labels), epochs=10, callbacks=[callbacks])\n",
        "    return model\n",
        "\n",
        "# solution_B2()"
      ],
      "metadata": {
        "id": "IVidFYKU9G_f"
      },
      "execution_count": null,
      "outputs": []
    },
    {
      "cell_type": "code",
      "source": [
        "# The code below is to save your model as a .h5 file.\n",
        "# It will be saved automatically in your Submission folder.\n",
        "if __name__ == '__main__':\n",
        "    # DO NOT CHANGE THIS CODE\n",
        "    model = solution_B2()\n",
        "    model.save(\"model_B2.h5\")"
      ],
      "metadata": {
        "id": "j_u4hpIb9MVm"
      },
      "execution_count": null,
      "outputs": []
    }
  ]
}